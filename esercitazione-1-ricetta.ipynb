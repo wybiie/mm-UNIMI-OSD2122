{
 "cells": [
  {
   "cell_type": "markdown",
   "id": "bdf9151d-f016-4c34-9bfa-c110052ddcc4",
   "metadata": {},
   "source": [
    "# PANCAKE ALLO SCIROPPO D'ACERO"
   ]
  },
  {
   "cell_type": "markdown",
   "id": "2e4484c0-71c6-4e44-9e37-fb73369cf5d6",
   "metadata": {},
   "source": [
    "***263 CALORIE PER PORZIONE***"
   ]
  },
  {
   "cell_type": "markdown",
   "id": "5eeb71ac-19f6-4dff-bd90-957d44332494",
   "metadata": {},
   "source": [
    "* **DIFFICOLTA'**: molto facile\n",
    "* **PREPARAZIONE** : 15 min\n",
    "* **COTTURA**: 20 min\n",
    "* **DOSI PER:** 4 persone\n",
    "* **COSTO**: molto basso"
   ]
  },
  {
   "cell_type": "markdown",
   "id": "9b1fffb8-2fbe-4785-9f03-b4e27aa60891",
   "metadata": {},
   "source": [
    "<img src= \"C:\\Users\\marti\\Downloads\\pancakes.jpg\" alt=\"pancakes\" heigh=\"200\" width=\"200\" />"
   ]
  },
  {
   "cell_type": "markdown",
   "id": "410e3f46-2554-46b9-a1b7-92ee9d1c1349",
   "metadata": {},
   "source": [
    "# INGREDIENTI"
   ]
  },
  {
   "cell_type": "markdown",
   "id": "70738630-a31c-4edf-be16-7a7b6fbd9dc2",
   "metadata": {},
   "source": [
    "ingredienti per:"
   ]
  },
  {
   "cell_type": "code",
   "execution_count": 129,
   "id": "21f3c9e1-8a05-48b8-aa1f-3b571ac523a1",
   "metadata": {},
   "outputs": [],
   "source": [
    "pancakes = 12 "
   ]
  },
  {
   "cell_type": "markdown",
   "id": "f99c5c08-4cf2-49e1-b446-a383356d20dc",
   "metadata": {},
   "source": [
    "* **BURRO (g)**"
   ]
  },
  {
   "cell_type": "code",
   "execution_count": 113,
   "id": "a3d0434f-1635-47a9-acb7-4a0af2755be9",
   "metadata": {},
   "outputs": [],
   "source": [
    "b = 25"
   ]
  },
  {
   "cell_type": "code",
   "execution_count": 131,
   "id": "848e2bae-91f0-49bd-b92a-22f601b3d6f0",
   "metadata": {},
   "outputs": [
    {
     "ename": "NameError",
     "evalue": "name 'x' is not defined",
     "output_type": "error",
     "traceback": [
      "\u001b[1;31m---------------------------------------------------------------------------\u001b[0m",
      "\u001b[1;31mNameError\u001b[0m                                 Traceback (most recent call last)",
      "Input \u001b[1;32mIn [131]\u001b[0m, in \u001b[0;36m<module>\u001b[1;34m\u001b[0m\n\u001b[1;32m----> 1\u001b[0m b \u001b[38;5;241m=\u001b[39m pancakes \u001b[38;5;241m*\u001b[39m \u001b[43mx\u001b[49m\n",
      "\u001b[1;31mNameError\u001b[0m: name 'x' is not defined"
     ]
    }
   ],
   "source": []
  },
  {
   "cell_type": "markdown",
   "id": "0d127b35-ef98-40ba-94ca-0adf79648951",
   "metadata": {},
   "source": [
    "* **UOVA**"
   ]
  },
  {
   "cell_type": "code",
   "execution_count": 123,
   "id": "f6a0e02a-668a-4ed0-bb34-78f9f6d2dbcf",
   "metadata": {},
   "outputs": [],
   "source": [
    "u = 2"
   ]
  },
  {
   "cell_type": "markdown",
   "id": "e72fac30-d13a-4229-85a4-6d9bd29a8bb2",
   "metadata": {},
   "source": [
    "* **LIEVITO IN POLVERE PER DOLCI**"
   ]
  },
  {
   "cell_type": "code",
   "execution_count": 124,
   "id": "47551ff7-9f1a-4549-aecf-7c6afa405503",
   "metadata": {},
   "outputs": [],
   "source": [
    "l = 6"
   ]
  },
  {
   "cell_type": "markdown",
   "id": "66b14544-c429-4e7f-bec2-206ef3ae942f",
   "metadata": {},
   "source": [
    "* **FARINA 00**"
   ]
  },
  {
   "cell_type": "code",
   "execution_count": 125,
   "id": "971226b0-f00f-45fd-bc8a-328423e53478",
   "metadata": {},
   "outputs": [],
   "source": [
    "f = 125"
   ]
  },
  {
   "cell_type": "markdown",
   "id": "807f08c2-6431-4e78-92a7-2be36fd75028",
   "metadata": {},
   "source": [
    "* **LATTE INTERO FRESCO**"
   ]
  },
  {
   "cell_type": "code",
   "execution_count": 127,
   "id": "acafa86b-2303-4d59-8a43-b4ea4cce8394",
   "metadata": {},
   "outputs": [],
   "source": [
    "l = 200"
   ]
  },
  {
   "cell_type": "markdown",
   "id": "cd43552d-4eb0-4989-bdd8-be73932d3064",
   "metadata": {},
   "source": [
    "* **ZUCCHERO**"
   ]
  },
  {
   "cell_type": "code",
   "execution_count": 128,
   "id": "7b05d894-70c2-4053-b91f-2cc82dd4905f",
   "metadata": {},
   "outputs": [],
   "source": [
    "z = 15"
   ]
  },
  {
   "cell_type": "code",
   "execution_count": null,
   "id": "39dae342-06ae-4fbf-9407-2b8b50f137df",
   "metadata": {},
   "outputs": [],
   "source": []
  },
  {
   "cell_type": "markdown",
   "id": "3a4c35fe-6e96-45cc-a087-436bd8b190f6",
   "metadata": {},
   "source": [
    "## **PREPARAZIONE**"
   ]
  },
  {
   "cell_type": "markdown",
   "id": "4380adef-2c48-4f78-91f6-612b97293c29",
   "metadata": {},
   "source": [
    "#### COME PREPARARE I PANCAKE ALLO SCIROPPO D'ACERO"
   ]
  },
  {
   "cell_type": "markdown",
   "id": "0a0fd406-e961-4ab3-9e79-bcf8e549f139",
   "metadata": {},
   "source": [
    "1. Iniziamo la preparazione dei pancake fondendo il burro a fuoco bassissimo, quindi lasciate intiepidire. <br> Intanto dividete gli albumi dai tuorli. <br> Versate i tuorli in una ciotola e sbatteteli con una frusta a mano.\n",
    "2. Poi unite il burro fuso a temperatura ambiente e il latte a filo, continuando sempre a mescolare con la frusta.\n",
    "3. Montate il composto finchè non risulterà chiaro."
   ]
  },
  {
   "cell_type": "markdown",
   "id": "7f3114c4-70e3-41fb-b6f2-78d17c587462",
   "metadata": {},
   "source": [
    "ecc."
   ]
  },
  {
   "cell_type": "code",
   "execution_count": null,
   "id": "db2ca7e1-6a75-4338-959d-e12a286b8eaf",
   "metadata": {},
   "outputs": [],
   "source": []
  }
 ],
 "metadata": {
  "kernelspec": {
   "display_name": "Python 3 (ipykernel)",
   "language": "python",
   "name": "python3"
  },
  "language_info": {
   "codemirror_mode": {
    "name": "ipython",
    "version": 3
   },
   "file_extension": ".py",
   "mimetype": "text/x-python",
   "name": "python",
   "nbconvert_exporter": "python",
   "pygments_lexer": "ipython3",
   "version": "3.9.7"
  }
 },
 "nbformat": 4,
 "nbformat_minor": 5
}
